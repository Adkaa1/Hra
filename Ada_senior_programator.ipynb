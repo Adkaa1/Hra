{
  "nbformat": 4,
  "nbformat_minor": 0,
  "metadata": {
    "colab": {
      "provenance": [],
      "authorship_tag": "ABX9TyPJR/M6HsyEvmVxgCn1gHnA",
      "include_colab_link": true
    },
    "kernelspec": {
      "name": "python3",
      "display_name": "Python 3"
    },
    "language_info": {
      "name": "python"
    }
  },
  "cells": [
    {
      "cell_type": "markdown",
      "metadata": {
        "id": "view-in-github",
        "colab_type": "text"
      },
      "source": [
        "<a href=\"https://colab.research.google.com/github/Adkaa1/Hra/blob/main/Ada_senior_programator.ipynb\" target=\"_parent\"><img src=\"https://colab.research.google.com/assets/colab-badge.svg\" alt=\"Open In Colab\"/></a>"
      ]
    },
    {
      "cell_type": "markdown",
      "source": [
        "## Adriana Straková- senior programátor\n",
        "\n",
        "1.   Celková úprava programu\n",
        "2.   Vytvorenie kódu programu\n",
        "\n",
        "## Karin Fabianová- junior programátor\n",
        "1. Vytvára úvod hry pre zaujatie\n",
        "2. Vizuálna úprava\n",
        "3. Rozšírenie zoznamu slov\n",
        "\n",
        "## Evan Macko Beluš- junior programátor\n",
        "\n",
        "\n",
        "1.   Vytvorenie vysvetliviek a pravidiel hry\n",
        "\n",
        "\n"
      ],
      "metadata": {
        "id": "A9xk9jgnucZ1"
      }
    },
    {
      "cell_type": "markdown",
      "source": [
        "# ***MINDWORD😍***\n"
      ],
      "metadata": {
        "id": "X4l0fBmt07dN"
      }
    },
    {
      "cell_type": "markdown",
      "source": [
        "🧠 **Nie je to len hra. Je to každodenná výzva pre tvoju myseľ.\n",
        "Slovo, ktoré ti môže zlepšiť deň… alebo potrápiť ego.\n",
        "Každý má len jednu šancu denne. A len tí najšikovnejší sa dostanú na vrchol.**\n",
        "\n",
        "🔒 Slovo je ukryté.\n",
        "⏳ Čas beží.\n",
        "🔥 Priatelia už hádajú.\n",
        "*A ty? Ešte stále váhaš?*\n",
        "\n",
        "✨ Zapojiť sa môže každý.\n",
        "Je to rýchle, návykové a extrémne uspokojivé – hlavne keď **trafíš** presne.\n",
        "Ukáž, že máš na to. Prekonaj seba aj ostatných.\n",
        "\n",
        "➡️ *Klikni, hraj, hádaj. Dnešné slovo na teba čaká.*\n",
        "**Ale pozor-zajtra už bude iné.**😉\n"
      ],
      "metadata": {
        "id": "vquHx71Q1AAd"
      }
    },
    {
      "cell_type": "code",
      "source": [
        "# @title\n",
        "# prompt: nastyluj text farebne a zmen typ pisma nech to pekne vyzera\n",
        "\n",
        "from IPython.display import display, HTML\n",
        "\n",
        "text = \"\"\"\n",
        "<style>\n",
        "  body {\n",
        "    font-family: 'Arial', sans-serif;\n",
        "  }\n",
        "  .green {\n",
        "    color: green;\n",
        "    font-weight: bold;\n",
        "  }\n",
        "  .yellow {\n",
        "    color: orange;\n",
        "    font-weight: bold;\n",
        "  }\n",
        "  .gray {\n",
        "    color: gray;\n",
        "    font-weight: bold;\n",
        "  }\n",
        "  .instructions {\n",
        "      margin-bottom: 15px;\n",
        "  }\n",
        "</style>\n",
        "\n",
        "<div class=\"instructions\">\n",
        "  <h2>Tvoj cieľ? Uhádnúť tajné päťpísmenové slovo v 6 pokusoch.</h2>\n",
        "  <p>Každý ťah ti prezradí ako blízko si k víťazstvu:</p>\n",
        "</div>\n",
        "<div>\n",
        "  <p><span class=\"green\">✅ Zelené písmeno?</span> Výborne - správne písmeno na správnom mieste</p>\n",
        "  <p><span class=\"yellow\">✌ Žlté?</span> Je tam, ale nie tam, kde má byť.</p>\n",
        "  <p><span class=\"gray\">❌ Sivé?</span> Skús to inak!</p>\n",
        "</div>\n",
        "<p>Pripravený na dnešné slovo? Klikni a hraj!</p>\n",
        "\"\"\"\n",
        "\n",
        "display(HTML(text))"
      ],
      "metadata": {
        "cellView": "form",
        "id": "l7UgBwWA3S1H"
      },
      "execution_count": null,
      "outputs": []
    },
    {
      "cell_type": "code",
      "source": [
        "# @title\n",
        "import random\n",
        "\n",
        "# Slovník slov podľa dĺžky\n",
        "WORDS_BY_LENGTH = {\n",
        "    4:[\"domy\", \"ryba\", \"hmla\", \"most\", \"zrak\", \"tráva\", \"kosa\", \"vlna\", \"list\", \"nosy\", \"dazd\", \"kora\", \"rohy\", \"rana\"],\n",
        "    5: [\"srdce\",  \"start\", \"kamen\", \"hrdza\", \"vlasy\",  \"zimat\", \"drama\", \"piect\", \"zlato\", \"blato\", \"skala\", \"uloha\", \"vetva\", \"okruh\"],\n",
        "    6:[\"zviera\", \"obloha\", \"kamene\", \"listie\", \"knizka\", \"tabula\", \"tanier\", \"vlajka\", \"zavesy\", \"jablka\", \"postel\", \"urazov\", \"kridel\"],\n",
        "    7:[\"priatel\", \"zahrada\", \"divadlo\", \"stanica\", \"dedinka\", \"vyletov\", \"ucebnic\", \"rozkvet\", \"nazorov\", \"hodnota\", \"jesenou\", \"sportov\", \"vikendov\", \"pecenie\", \"dovozom\"],\n",
        "    8:[  \"technika\", \"pocitace\", \"obyvatel\", \"narodenie\", \"odpustenie\", \"zabudnut\", \"zamestnanec\", \"vyucovanie\", \"prebudenie\", \"ochranca\", \"milovanie\", \"učitelka\", \"rozpravka\", \"rozdelene\", \"oslavat\"]\n",
        "}\n",
        "\n",
        "\n",
        "max_attempts = 6\n",
        "\n",
        "print(\"🌟 Vitaj v hre Mindword\")\n",
        "\n",
        "while True:\n",
        "    # Výber dĺžky slova\n",
        "    print(\"\\nVyber si dĺžku slova, ktoré chceš hádať (4 až 8):\")\n",
        "    while True:\n",
        "        try:\n",
        "            word_length = int(input(\"👉 Dĺžka slova: \"))\n",
        "            if word_length in WORDS_BY_LENGTH:\n",
        "                break\n",
        "            else:\n",
        "                print(\"❌ Neplatná dĺžka. Skús číslo medzi 4 a 8.\")\n",
        "        except ValueError:\n",
        "            print(\"⚠️ Zadaj platné číslo!\")\n",
        "\n",
        "    # Výber cieľového slova\n",
        "    target = random.choice(WORDS_BY_LENGTH[word_length])\n",
        "    print(f\"\\n🎯 Hádaj {word_length}-písmenové slovo. Máš {max_attempts} pokusov.\\n\")\n",
        "\n",
        "    for attempt in range(max_attempts):\n",
        "        guess = input(f\"🕵️ Pokus {attempt + 1}/{max_attempts}: \").lower()\n",
        "\n",
        "        if len(guess) != word_length:\n",
        "            print(f\"⚠️ Zadaj presne {word_length} písmen!\\n\")\n",
        "            continue\n",
        "\n",
        "        if guess == target:\n",
        "            print(\"🎉 Správne! Uhádol si slovo.\")\n",
        "            break\n",
        "\n",
        "        # Spätná väzba\n",
        "        feedback = \"\"\n",
        "        used_letters = list(target)  # Pomocný zoznam na 🔁 kontrolu\n",
        "\n",
        "        # Prvá fáza – správne písmená na správnych miestach\n",
        "        for i in range(word_length):\n",
        "            if guess[i] == target[i]:\n",
        "                feedback += \"✅\"\n",
        "                used_letters[i] = None  # Označiť ako použité\n",
        "            else:\n",
        "                feedback += \"_\"\n",
        "\n",
        "        # Druhá fáza – správne písmená na zlom mieste\n",
        "        for i in range(word_length):\n",
        "            if feedback[i] == \"✅\":\n",
        "                continue\n",
        "            if guess[i] in used_letters:\n",
        "                feedback = feedback[:i] + \"🔁\" + feedback[i + 1:]\n",
        "                used_letters[used_letters.index(guess[i])] = None\n",
        "            else:\n",
        "                feedback = feedback[:i] + \"❌\" + feedback[i + 1:]\n",
        "\n",
        "        print(f\"Nápoveda: {feedback}\\n\")\n",
        "\n",
        "    else:\n",
        "        print(f\"😢 Prehral si. Hľadané slovo bolo: {target}\")\n",
        "\n",
        "    # Otázka na opakovanie\n",
        "    play_again = input(\"\\n🔁 Chceš hrať znova? (áno/nie): \").strip().lower()\n",
        "    if play_again not in [\"áno\", \"ano\", \"a\", \"y\", \"yes\"]:\n",
        "        print(\"👋 Koniec hry. Ďakujem za hranie!\")\n",
        "        break\n"
      ],
      "metadata": {
        "cellView": "form",
        "id": "NaevxT_O0r02"
      },
      "execution_count": null,
      "outputs": []
    }
  ]
}