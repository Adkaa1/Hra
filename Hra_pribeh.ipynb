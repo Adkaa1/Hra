{
  "nbformat": 4,
  "nbformat_minor": 0,
  "metadata": {
    "colab": {
      "provenance": [],
      "authorship_tag": "ABX9TyNDWWsuZbZZXKZnDD/uvUf6",
      "include_colab_link": true
    },
    "kernelspec": {
      "name": "python3",
      "display_name": "Python 3"
    },
    "language_info": {
      "name": "python"
    }
  },
  "cells": [
    {
      "cell_type": "markdown",
      "metadata": {
        "id": "view-in-github",
        "colab_type": "text"
      },
      "source": [
        "<a href=\"https://colab.research.google.com/github/Adkaa1/Hra/blob/main/Hra_pribeh.ipynb\" target=\"_parent\"><img src=\"https://colab.research.google.com/assets/colab-badge.svg\" alt=\"Open In Colab\"/></a>"
      ]
    },
    {
      "cell_type": "markdown",
      "source": [],
      "metadata": {
        "id": "RUGQC_o5f17U"
      }
    },
    {
      "cell_type": "markdown",
      "source": [
        "# Tvorba hry\n",
        "Príbeh s dvomi možnosťami na konci. Po výberu sa vytvorí ďalšia časť príbehu. Vždy je len jedna možnosť správna."
      ],
      "metadata": {
        "id": "1DHapbUIgCMW"
      }
    },
    {
      "cell_type": "code",
      "source": [
        "def start():\n",
        "    print(\"Stojíš pred temným lesom. V diaľke počuješ zavýjanie vlkov.\")\n",
        "    print(\"1: Vojdeš do lesa.\")\n",
        "    print(\"2: Otočíš sa a utečieš späť do dediny.\")\n",
        "    choice = input(\"Tvoja voľba (1 alebo 2): \")\n",
        "    if choice == \"1\":\n",
        "        forest_path()\n",
        "    elif choice == \"2\":\n",
        "        print(\"Utekáš, ale zakopneš a vlci ťa dobehnú. Koniec.\")\n",
        "    else:\n",
        "        print(\"Neplatná voľba.\")\n",
        "        start()\n",
        "\n",
        "def forest_path():\n",
        "    print(\"\\nVstúpiš do lesa. Cestička sa rozdeľuje na dve strany.\")\n",
        "    print(\"1: Ideš vľavo, kde je hustá hmla.\")\n",
        "    print(\"2: Ideš vpravo, kde svieti mesačný lúč.\")\n",
        "    choice = input(\"Tvoja voľba (1 alebo 2): \")\n",
        "    if choice == \"2\":\n",
        "        moon_path()\n",
        "    elif choice == \"1\":\n",
        "        print(\"V hustej hmle sa stratíš a spadneš do priepasti. Koniec.\")\n",
        "    else:\n",
        "        print(\"Neplatná voľba.\")\n",
        "        forest_path()\n",
        "\n",
        "def moon_path():\n",
        "    print(\"\\nMesačný lúč ťa dovedie k jaskyni.\")\n",
        "    print(\"1: Vojdeš do jaskyne.\")\n",
        "    print(\"2: Obídeš jaskyňu a pokračuješ po ceste.\")\n",
        "    choice = input(\"Tvoja voľba (1 alebo 2): \")\n",
        "    if choice == \"1\":\n",
        "        print(\"V jaskyni nájdeš skrytý poklad a si zachránený. Víťazstvo!\")\n",
        "    elif choice == \"2\":\n",
        "        print(\"Zablúdiš a nikdy ťa nikto nenájde. Koniec.\")\n",
        "    else:\n",
        "        print(\"Neplatná voľba.\")\n",
        "        moon_path()\n",
        "\n",
        "start()\n"
      ],
      "metadata": {
        "colab": {
          "base_uri": "https://localhost:8080/"
        },
        "id": "OjXK6UmFg40n",
        "outputId": "5d9a6035-d3e5-4efa-d7e0-d879e01cee6c"
      },
      "execution_count": null,
      "outputs": [
        {
          "output_type": "stream",
          "name": "stdout",
          "text": [
            "Stojíš pred temným lesom. V diaľke počuješ zavýjanie vlkov.\n",
            "1: Vojdeš do lesa.\n",
            "2: Otočíš sa a utečieš späť do dediny.\n"
          ]
        }
      ]
    }
  ]
}